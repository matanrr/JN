{
 "cells": [
  {
   "cell_type": "code",
   "execution_count": 68,
   "id": "3168318a",
   "metadata": {},
   "outputs": [],
   "source": [
    "# Imports \n",
    "from sklearn.datasets import load_iris\n",
    "import pandas as pd\n",
    "from sklearn.neighbors import KNeighborsClassifier\n",
    "import numpy as np\n",
    "from sklearn.svm import SVC\n",
    "from sklearn.ensemble import RandomForestClassifier\n"
   ]
  },
  {
   "cell_type": "code",
   "execution_count": 69,
   "id": "06e2953f",
   "metadata": {},
   "outputs": [],
   "source": [
    "# Load Data\n",
    "iris = load_iris()"
   ]
  },
  {
   "cell_type": "code",
   "execution_count": 70,
   "id": "39a06546",
   "metadata": {},
   "outputs": [
    {
     "data": {
      "text/plain": [
       "sklearn.utils.Bunch"
      ]
     },
     "execution_count": 70,
     "metadata": {},
     "output_type": "execute_result"
    }
   ],
   "source": [
    "type(iris)"
   ]
  },
  {
   "cell_type": "code",
   "execution_count": 71,
   "id": "2ea7e33f",
   "metadata": {},
   "outputs": [
    {
     "data": {
      "text/html": [
       "<div>\n",
       "<style scoped>\n",
       "    .dataframe tbody tr th:only-of-type {\n",
       "        vertical-align: middle;\n",
       "    }\n",
       "\n",
       "    .dataframe tbody tr th {\n",
       "        vertical-align: top;\n",
       "    }\n",
       "\n",
       "    .dataframe thead th {\n",
       "        text-align: right;\n",
       "    }\n",
       "</style>\n",
       "<table border=\"1\" class=\"dataframe\">\n",
       "  <thead>\n",
       "    <tr style=\"text-align: right;\">\n",
       "      <th></th>\n",
       "      <th>sepal length (cm)</th>\n",
       "      <th>sepal width (cm)</th>\n",
       "      <th>petal length (cm)</th>\n",
       "      <th>petal width (cm)</th>\n",
       "      <th>target</th>\n",
       "    </tr>\n",
       "  </thead>\n",
       "  <tbody>\n",
       "    <tr>\n",
       "      <th>62</th>\n",
       "      <td>6.0</td>\n",
       "      <td>2.2</td>\n",
       "      <td>4.0</td>\n",
       "      <td>1.0</td>\n",
       "      <td>1</td>\n",
       "    </tr>\n",
       "    <tr>\n",
       "      <th>61</th>\n",
       "      <td>5.9</td>\n",
       "      <td>3.0</td>\n",
       "      <td>4.2</td>\n",
       "      <td>1.5</td>\n",
       "      <td>1</td>\n",
       "    </tr>\n",
       "    <tr>\n",
       "      <th>19</th>\n",
       "      <td>5.1</td>\n",
       "      <td>3.8</td>\n",
       "      <td>1.5</td>\n",
       "      <td>0.3</td>\n",
       "      <td>0</td>\n",
       "    </tr>\n",
       "    <tr>\n",
       "      <th>7</th>\n",
       "      <td>5.0</td>\n",
       "      <td>3.4</td>\n",
       "      <td>1.5</td>\n",
       "      <td>0.2</td>\n",
       "      <td>0</td>\n",
       "    </tr>\n",
       "  </tbody>\n",
       "</table>\n",
       "</div>"
      ],
      "text/plain": [
       "    sepal length (cm)  sepal width (cm)  petal length (cm)  petal width (cm)  \\\n",
       "62                6.0               2.2                4.0               1.0   \n",
       "61                5.9               3.0                4.2               1.5   \n",
       "19                5.1               3.8                1.5               0.3   \n",
       "7                 5.0               3.4                1.5               0.2   \n",
       "\n",
       "    target  \n",
       "62       1  \n",
       "61       1  \n",
       "19       0  \n",
       "7        0  "
      ]
     },
     "execution_count": 71,
     "metadata": {},
     "output_type": "execute_result"
    }
   ],
   "source": [
    "# Create a dataframe\n",
    "df = pd.DataFrame(iris.data, columns = iris.feature_names)\n",
    "df['target'] = iris.target\n",
    "#X = iris.data\n",
    "df.sample(4)"
   ]
  },
  {
   "cell_type": "code",
   "execution_count": 72,
   "id": "7733c50e",
   "metadata": {},
   "outputs": [
    {
     "data": {
      "text/plain": [
       "target\n",
       "0    50\n",
       "1    50\n",
       "2    50\n",
       "dtype: int64"
      ]
     },
     "execution_count": 72,
     "metadata": {},
     "output_type": "execute_result"
    }
   ],
   "source": [
    "df.groupby('target').size()"
   ]
  },
  {
   "cell_type": "code",
   "execution_count": 73,
   "id": "ce7b9cc4",
   "metadata": {},
   "outputs": [
    {
     "data": {
      "text/html": [
       "<div>\n",
       "<style scoped>\n",
       "    .dataframe tbody tr th:only-of-type {\n",
       "        vertical-align: middle;\n",
       "    }\n",
       "\n",
       "    .dataframe tbody tr th {\n",
       "        vertical-align: top;\n",
       "    }\n",
       "\n",
       "    .dataframe thead th {\n",
       "        text-align: right;\n",
       "    }\n",
       "</style>\n",
       "<table border=\"1\" class=\"dataframe\">\n",
       "  <thead>\n",
       "    <tr style=\"text-align: right;\">\n",
       "      <th></th>\n",
       "      <th>sepal length (cm)</th>\n",
       "      <th>sepal width (cm)</th>\n",
       "      <th>petal length (cm)</th>\n",
       "      <th>petal width (cm)</th>\n",
       "      <th>target</th>\n",
       "    </tr>\n",
       "  </thead>\n",
       "  <tbody>\n",
       "    <tr>\n",
       "      <th>115</th>\n",
       "      <td>6.4</td>\n",
       "      <td>3.2</td>\n",
       "      <td>5.3</td>\n",
       "      <td>2.3</td>\n",
       "      <td>2</td>\n",
       "    </tr>\n",
       "    <tr>\n",
       "      <th>100</th>\n",
       "      <td>6.3</td>\n",
       "      <td>3.3</td>\n",
       "      <td>6.0</td>\n",
       "      <td>2.5</td>\n",
       "      <td>2</td>\n",
       "    </tr>\n",
       "  </tbody>\n",
       "</table>\n",
       "</div>"
      ],
      "text/plain": [
       "     sepal length (cm)  sepal width (cm)  petal length (cm)  petal width (cm)  \\\n",
       "115                6.4               3.2                5.3               2.3   \n",
       "100                6.3               3.3                6.0               2.5   \n",
       "\n",
       "     target  \n",
       "115       2  \n",
       "100       2  "
      ]
     },
     "execution_count": 73,
     "metadata": {},
     "output_type": "execute_result"
    }
   ],
   "source": [
    "# Let's see a sample of created df\n",
    "df.sample(frac=0.01)"
   ]
  },
  {
   "cell_type": "code",
   "execution_count": 74,
   "id": "09d7e10c",
   "metadata": {},
   "outputs": [
    {
     "name": "stdout",
     "output_type": "stream",
     "text": [
      "['setosa' 'versicolor' 'virginica']\n"
     ]
    },
    {
     "data": {
      "text/plain": [
       "['setosa', 'versicolor', 'virginica']"
      ]
     },
     "execution_count": 74,
     "metadata": {},
     "output_type": "execute_result"
    }
   ],
   "source": [
    "# Let's see target names\n",
    "targets = iris.target_names\n",
    "print(targets)\n",
    "['setosa', 'versicolor', 'virginica']\n",
    "\n"
   ]
  },
  {
   "cell_type": "code",
   "execution_count": 75,
   "id": "c34ea461",
   "metadata": {},
   "outputs": [],
   "source": [
    "# Prepare training data for building the model\n",
    "X_train = df.drop(['target'], axis=1)\n",
    "y_train = df['target']"
   ]
  },
  {
   "cell_type": "markdown",
   "id": "3e8fa8e7",
   "metadata": {},
   "source": [
    "# K Nearest Neighbors classifier\n"
   ]
  },
  {
   "cell_type": "code",
   "execution_count": 76,
   "id": "9fffb428",
   "metadata": {},
   "outputs": [],
   "source": [
    "# Instantiate the model\n",
    "cls = KNeighborsClassifier()"
   ]
  },
  {
   "cell_type": "code",
   "execution_count": 77,
   "id": "a1a9b4c5",
   "metadata": {},
   "outputs": [
    {
     "data": {
      "text/plain": [
       "KNeighborsClassifier()"
      ]
     },
     "execution_count": 77,
     "metadata": {},
     "output_type": "execute_result"
    }
   ],
   "source": [
    "# Train/Fit the model \n",
    "cls.fit(X_train, y_train)"
   ]
  },
  {
   "cell_type": "code",
   "execution_count": 78,
   "id": "d700f06f",
   "metadata": {},
   "outputs": [],
   "source": [
    "# Make prediction using the model\n",
    "X_pred = [5.1, 3.2, 1.5, 0.5]\n",
    "y_pred = cls.predict([X_pred])"
   ]
  },
  {
   "cell_type": "code",
   "execution_count": 79,
   "id": "f60f9a3a",
   "metadata": {},
   "outputs": [
    {
     "name": "stdout",
     "output_type": "stream",
     "text": [
      "Prediction is: ['setosa']\n"
     ]
    }
   ],
   "source": [
    "print(\"Prediction is: {}\".format(targets[y_pred]))"
   ]
  },
  {
   "cell_type": "markdown",
   "id": "06547174",
   "metadata": {},
   "source": [
    "# SVM (Support Vector Machine)"
   ]
  },
  {
   "cell_type": "code",
   "execution_count": 80,
   "id": "c97a5610",
   "metadata": {},
   "outputs": [],
   "source": [
    "# Instantiate the model\n",
    "cls = SVC()\n",
    "\n"
   ]
  },
  {
   "cell_type": "code",
   "execution_count": 81,
   "id": "ac2cdca8",
   "metadata": {},
   "outputs": [
    {
     "data": {
      "text/plain": [
       "SVC()"
      ]
     },
     "execution_count": 81,
     "metadata": {},
     "output_type": "execute_result"
    }
   ],
   "source": [
    "# Train/Fit the model \n",
    "cls.fit(X_train, y_train)"
   ]
  },
  {
   "cell_type": "code",
   "execution_count": 82,
   "id": "b29f1e97",
   "metadata": {},
   "outputs": [],
   "source": [
    "# Make prediction using the model\n",
    "X_pred = [5.1, 3.2, 1.5, 0.5]\n",
    "y_pred = cls.predict([X_pred])"
   ]
  },
  {
   "cell_type": "code",
   "execution_count": 83,
   "id": "9529b1e0",
   "metadata": {},
   "outputs": [
    {
     "name": "stdout",
     "output_type": "stream",
     "text": [
      "Prediction is: ['setosa']\n"
     ]
    }
   ],
   "source": [
    "print(\"Prediction is: {}\".format(targets[y_pred]))"
   ]
  },
  {
   "cell_type": "markdown",
   "id": "202f7328",
   "metadata": {},
   "source": [
    "# Random Forest classifier\n"
   ]
  },
  {
   "cell_type": "code",
   "execution_count": 84,
   "id": "299d3141",
   "metadata": {},
   "outputs": [],
   "source": [
    "# Instantiate the model\n",
    "cls = RandomForestClassifier()"
   ]
  },
  {
   "cell_type": "code",
   "execution_count": 85,
   "id": "71a4780f",
   "metadata": {},
   "outputs": [
    {
     "data": {
      "text/plain": [
       "RandomForestClassifier()"
      ]
     },
     "execution_count": 85,
     "metadata": {},
     "output_type": "execute_result"
    }
   ],
   "source": [
    "# Train/Fit the model \n",
    "cls.fit(X_train, y_train)"
   ]
  },
  {
   "cell_type": "code",
   "execution_count": 86,
   "id": "fda149a2",
   "metadata": {},
   "outputs": [],
   "source": [
    "# Make prediction using the model\n",
    "X_pred = [5.1, 3.2, 1.5, 0.5]\n",
    "y_pred = cls.predict([X_pred])"
   ]
  },
  {
   "cell_type": "code",
   "execution_count": 87,
   "id": "c1a847b2",
   "metadata": {},
   "outputs": [
    {
     "name": "stdout",
     "output_type": "stream",
     "text": [
      "Prediction is: ['setosa']\n"
     ]
    }
   ],
   "source": [
    "print(\"Prediction is: {}\".format(targets[y_pred]))"
   ]
  },
  {
   "cell_type": "markdown",
   "id": "e6c0fd0a",
   "metadata": {},
   "source": [
    "# conclusions"
   ]
  },
  {
   "cell_type": "markdown",
   "id": "8b9768c5",
   "metadata": {},
   "source": [
    "I performed three classification technique :\n",
    "1. KNN\n",
    "2. SVM\n",
    "3. Random Forest classifier\n",
    "\n",
    "in this tutorial i learned how to downlod the iris dataset from sklearn, how to convert the data into DataFrames and visualize the data.i fetch the right columns for the train and test columns,and I implemnted 3 classification method that predict the 'setosa' target (class)\n"
   ]
  },
  {
   "cell_type": "code",
   "execution_count": null,
   "id": "54296c3f",
   "metadata": {},
   "outputs": [],
   "source": []
  }
 ],
 "metadata": {
  "kernelspec": {
   "display_name": "Python 3 (ipykernel)",
   "language": "python",
   "name": "python3"
  },
  "language_info": {
   "codemirror_mode": {
    "name": "ipython",
    "version": 3
   },
   "file_extension": ".py",
   "mimetype": "text/x-python",
   "name": "python",
   "nbconvert_exporter": "python",
   "pygments_lexer": "ipython3",
   "version": "3.9.7"
  }
 },
 "nbformat": 4,
 "nbformat_minor": 5
}
